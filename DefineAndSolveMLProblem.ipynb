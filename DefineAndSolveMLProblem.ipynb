{
 "cells": [
  {
   "cell_type": "markdown",
   "metadata": {},
   "source": [
    "# Lab 8: Define and Solve an ML Problem of Your Choosing"
   ]
  },
  {
   "cell_type": "code",
   "execution_count": 19,
   "metadata": {},
   "outputs": [],
   "source": [
    "import pandas as pd\n",
    "import numpy as np\n",
    "import os \n",
    "import matplotlib.pyplot as plt\n",
    "import seaborn as sns"
   ]
  },
  {
   "cell_type": "markdown",
   "metadata": {},
   "source": [
    "In this lab assignment, you will follow the machine learning life cycle and implement a model to solve a machine learning problem of your choosing. You will select a data set and choose a predictive problem that the data set supports.  You will then inspect the data with your problem in mind and begin to formulate a  project plan. You will then implement the machine learning project plan. \n",
    "\n",
    "You will complete the following tasks:\n",
    "\n",
    "1. Build Your DataFrame\n",
    "2. Define Your ML Problem\n",
    "3. Perform exploratory data analysis to understand your data.\n",
    "4. Define Your Project Plan\n",
    "5. Implement Your Project Plan:\n",
    "    * Prepare your data for your model.\n",
    "    * Fit your model to the training data and evaluate your model.\n",
    "    * Improve your model's performance."
   ]
  },
  {
   "cell_type": "markdown",
   "metadata": {},
   "source": [
    "## Part 1: Build Your DataFrame\n",
    "\n",
    "You will have the option to choose one of four data sets that you have worked with in this program:\n",
    "\n",
    "* The \"census\" data set that contains Census information from 1994: `censusData.csv`\n",
    "* Airbnb NYC \"listings\" data set: `airbnbListingsData.csv`\n",
    "* World Happiness Report (WHR) data set: `WHR2018Chapter2OnlineData.csv`\n",
    "* Book Review data set: `bookReviewsData.csv`\n",
    "\n",
    "Note that these are variations of the data sets that you have worked with in this program. For example, some do not include some of the preprocessing necessary for specific models. \n",
    "\n",
    "#### Load a Data Set and Save it as a Pandas DataFrame\n",
    "\n",
    "The code cell below contains filenames (path + filename) for each of the four data sets available to you.\n",
    "\n",
    "<b>Task:</b> In the code cell below, use the same method you have been using to load the data using `pd.read_csv()` and save it to DataFrame `df`. \n",
    "\n",
    "You can load each file as a new DataFrame to inspect the data before choosing your data set."
   ]
  },
  {
   "cell_type": "code",
   "execution_count": 20,
   "metadata": {},
   "outputs": [
    {
     "data": {
      "text/html": [
       "<div>\n",
       "<style scoped>\n",
       "    .dataframe tbody tr th:only-of-type {\n",
       "        vertical-align: middle;\n",
       "    }\n",
       "\n",
       "    .dataframe tbody tr th {\n",
       "        vertical-align: top;\n",
       "    }\n",
       "\n",
       "    .dataframe thead th {\n",
       "        text-align: right;\n",
       "    }\n",
       "</style>\n",
       "<table border=\"1\" class=\"dataframe\">\n",
       "  <thead>\n",
       "    <tr style=\"text-align: right;\">\n",
       "      <th></th>\n",
       "      <th>Review</th>\n",
       "      <th>Positive Review</th>\n",
       "    </tr>\n",
       "  </thead>\n",
       "  <tbody>\n",
       "    <tr>\n",
       "      <th>0</th>\n",
       "      <td>This was perhaps the best of Johannes Steinhof...</td>\n",
       "      <td>True</td>\n",
       "    </tr>\n",
       "    <tr>\n",
       "      <th>1</th>\n",
       "      <td>This very fascinating book is a story written ...</td>\n",
       "      <td>True</td>\n",
       "    </tr>\n",
       "    <tr>\n",
       "      <th>2</th>\n",
       "      <td>The four tales in this collection are beautifu...</td>\n",
       "      <td>True</td>\n",
       "    </tr>\n",
       "    <tr>\n",
       "      <th>3</th>\n",
       "      <td>The book contained more profanity than I expec...</td>\n",
       "      <td>False</td>\n",
       "    </tr>\n",
       "    <tr>\n",
       "      <th>4</th>\n",
       "      <td>We have now entered a second time of deep conc...</td>\n",
       "      <td>True</td>\n",
       "    </tr>\n",
       "  </tbody>\n",
       "</table>\n",
       "</div>"
      ],
      "text/plain": [
       "                                              Review  Positive Review\n",
       "0  This was perhaps the best of Johannes Steinhof...             True\n",
       "1  This very fascinating book is a story written ...             True\n",
       "2  The four tales in this collection are beautifu...             True\n",
       "3  The book contained more profanity than I expec...            False\n",
       "4  We have now entered a second time of deep conc...             True"
      ]
     },
     "execution_count": 20,
     "metadata": {},
     "output_type": "execute_result"
    }
   ],
   "source": [
    "# File names of the four data sets\n",
    "adultDataSet_filename = os.path.join(os.getcwd(), \"data\", \"censusData.csv\")\n",
    "airbnbDataSet_filename = os.path.join(os.getcwd(), \"data\", \"airbnbListingsData.csv\")\n",
    "WHRDataSet_filename = os.path.join(os.getcwd(), \"data\", \"WHR2018Chapter2OnlineData.csv\")\n",
    "bookReviewDataSet_filename = os.path.join(os.getcwd(), \"data\", \"bookReviewsData.csv\")\n",
    "\n",
    "\n",
    "df = pd.read_csv(bookReviewDataSet_filename)\n",
    "\n",
    "df.head()"
   ]
  },
  {
   "cell_type": "markdown",
   "metadata": {},
   "source": [
    "## Part 2: Define Your ML Problem\n",
    "\n",
    "Next you will formulate your ML Problem. In the markdown cell below, answer the following questions:\n",
    "\n",
    "1. List the data set you have chosen.\n",
    "2. What will you be predicting? What is the label?\n",
    "3. Is this a supervised or unsupervised learning problem? Is this a clustering, classification or regression problem? Is it a binary classificaiton or multi-class classifiction problem?\n",
    "4. What are your features? (note: this list may change after your explore your data)\n",
    "5. Explain why this is an important problem. In other words, how would a company create value with a model that predicts this label?"
   ]
  },
  {
   "cell_type": "markdown",
   "metadata": {},
   "source": [
    "1. I have chosen the bookReviewDataSet for my sentiment analysis model.\n",
    "2. I will be predicting the sentiment of the book reviews. The label will be the sentiment score or general category (positive, negative) per every review.\n",
    "3. This is a supervised learning problem and binary classification problem.\n",
    "4. The primary feature will be the Review column.\n",
    "5. This is an important problem because it allows companies to understand customer feedback and satisfaction in order to improve future products, address issues, enhance marking and experience, and automate processes."
   ]
  },
  {
   "cell_type": "markdown",
   "metadata": {},
   "source": [
    "## Part 3: Understand Your Data\n",
    "\n",
    "The next step is to perform exploratory data analysis. Inspect and analyze your data set with your machine learning problem in mind. Consider the following as you inspect your data:\n",
    "\n",
    "1. What data preparation techniques would you like to use? These data preparation techniques may include:\n",
    "\n",
    "    * addressing missingness, such as replacing missing values with means\n",
    "    * finding and replacing outliers\n",
    "    * renaming features and labels\n",
    "    * finding and replacing outliers\n",
    "    * performing feature engineering techniques such as one-hot encoding on categorical features\n",
    "    * selecting appropriate features and removing irrelevant features\n",
    "    * performing specific data cleaning and preprocessing techniques for an NLP problem\n",
    "    * addressing class imbalance in your data sample to promote fair AI\n",
    "    \n",
    "\n",
    "2. What machine learning model (or models) you would like to use that is suitable for your predictive problem and data?\n",
    "    * Are there other data preparation techniques that you will need to apply to build a balanced modeling data set for your problem and model? For example, will you need to scale your data?\n",
    " \n",
    " \n",
    "3. How will you evaluate and improve the model's performance?\n",
    "    * Are there specific evaluation metrics and methods that are appropriate for your model?\n",
    "    \n",
    "\n",
    "Think of the different techniques you have used to inspect and analyze your data in this course. These include using Pandas to apply data filters, using the Pandas `describe()` method to get insight into key statistics for each column, using the Pandas `dtypes` property to inspect the data type of each column, and using Matplotlib and Seaborn to detect outliers and visualize relationships between features and labels. If you are working on a classification problem, use techniques you have learned to determine if there is class imbalance.\n",
    "\n",
    "<b>Task</b>: Use the techniques you have learned in this course to inspect and analyze your data. You can import additional packages that you have used in this course that you will need to perform this task.\n",
    "\n",
    "<b>Note</b>: You can add code cells if needed by going to the <b>Insert</b> menu and clicking on <b>Insert Cell Below</b> in the drop-drown menu."
   ]
  },
  {
   "cell_type": "code",
   "execution_count": 21,
   "metadata": {},
   "outputs": [
    {
     "name": "stdout",
     "output_type": "stream",
     "text": [
      "                                                   Review Positive Review\n",
      "count                                                1973            1973\n",
      "unique                                               1865               2\n",
      "top     I have read several of Hiaasen's books and lov...           False\n",
      "freq                                                    3             993\n"
     ]
    }
   ],
   "source": [
    "print(df.describe())"
   ]
  },
  {
   "cell_type": "code",
   "execution_count": 22,
   "metadata": {},
   "outputs": [
    {
     "name": "stdout",
     "output_type": "stream",
     "text": [
      "<class 'pandas.core.frame.DataFrame'>\n",
      "RangeIndex: 1973 entries, 0 to 1972\n",
      "Data columns (total 2 columns):\n",
      " #   Column           Non-Null Count  Dtype \n",
      "---  ------           --------------  ----- \n",
      " 0   Review           1973 non-null   object\n",
      " 1   Positive Review  1973 non-null   bool  \n",
      "dtypes: bool(1), object(1)\n",
      "memory usage: 17.5+ KB\n",
      "None\n"
     ]
    }
   ],
   "source": [
    "print(df.info())"
   ]
  },
  {
   "cell_type": "code",
   "execution_count": 23,
   "metadata": {},
   "outputs": [
    {
     "name": "stdout",
     "output_type": "stream",
     "text": [
      "Review             0\n",
      "Positive Review    0\n",
      "dtype: int64\n"
     ]
    }
   ],
   "source": [
    "print(df.isnull().sum())"
   ]
  },
  {
   "cell_type": "code",
   "execution_count": 24,
   "metadata": {},
   "outputs": [
    {
     "data": {
      "text/plain": [
       "(1973,)"
      ]
     },
     "execution_count": 24,
     "metadata": {},
     "output_type": "execute_result"
    }
   ],
   "source": [
    "y = df['Positive Review']\n",
    "X = df['Review']\n",
    "\n",
    "X.shape"
   ]
  },
  {
   "cell_type": "code",
   "execution_count": 25,
   "metadata": {},
   "outputs": [
    {
     "name": "stdout",
     "output_type": "stream",
     "text": [
      "A Negative Review Example: \n",
      "\n",
      " Man, oh man, I think this is one of the worst books I've ever read.  If I could give The Thanatos Syndrome negative stars, I would!\n",
      "\n",
      "Seriously, half way through, I came to Amazon to see how bad other people thought it was.  Boy was I shocked to see that almost all of these reviews were positive!\n",
      "\n",
      "I found the book bizarre, unfocused and poorly written.  The volcabulary repeatedly seems misused.  The plot is not reasonable given the safeguards that US funding agencies have in place with regards to human experimentation.  The physics, engineering, psychology, medical chemistry and biology are uninformed and unrealistic.  Characters are introduced as though they will be important to the outcome, only to have them dissipate.  And so on.\n",
      "\n",
      "The characters don't even seem like real people.  For example, the main character recognizes his cousin by seeing her ankles - and only her ankles - flashing below a curtain, and yet he is apparently unaware of what degree of cousins they are.  How could someone know a person that well, but still only have a vague idea of how they were related by blood?  Or:  one of the more reliable male characters blows duck hunting calls at women he finds attractive - as though he really thinks this will attract them.  C'mon, if the guys a nut (and anyone who tries to seduce women by talking 'duck' to them is nuts!), write him as a nut the whole way through, don't make him the cornerstone of reliability at the book's climax!\n",
      "\n",
      "The book's title isn't even explained, for crying out loud.  Thanatos means death in Greek, I believe, but I could never understand what the author/editors/audience thought was dying.\n",
      "\n",
      "I won't read this one again, nor will I look for anything else by Percy Walker. \n",
      "\n",
      "A Positive Review Example: \n",
      "\n",
      " I came across this book while on vacation in a cabin in Minnesota. I read the entire thing in two days, and loved it so much I considered taking it with me!\n",
      "\n",
      "This was back before the Internet, and it took me nine years to find a copy of it that I could buy. It was worth the wait.\n",
      "\n",
      "These are some of the best short stories I've ever read. They are very well written, original, and gripping tales that are fun to read and reread. If only there were more writers like Mr. Ellin\n",
      "\n"
     ]
    }
   ],
   "source": [
    "print('A Negative Review Example: \\n\\n', X[40])\n",
    "print('A Positive Review Example: \\n\\n', X[92])"
   ]
  },
  {
   "cell_type": "code",
   "execution_count": 26,
   "metadata": {},
   "outputs": [
    {
     "data": {
      "text/plain": [
       "0    This was perhaps the best of Johannes Steinhof...\n",
       "1    This very fascinating book is a story written ...\n",
       "2    The four tales in this collection are beautifu...\n",
       "3    The book contained more profanity than I expec...\n",
       "4    We have now entered a second time of deep conc...\n",
       "Name: Review, dtype: object"
      ]
     },
     "execution_count": 26,
     "metadata": {},
     "output_type": "execute_result"
    }
   ],
   "source": [
    "X.head()"
   ]
  },
  {
   "cell_type": "code",
   "execution_count": 27,
   "metadata": {},
   "outputs": [
    {
     "data": {
      "image/png": "[encoded data removed]",
      "text/plain": [
       "<Figure size 1000x800 with 1 Axes>"
      ]
     },
     "metadata": {},
     "output_type": "display_data"
    }
   ],
   "source": [
    "df['Positive Review'] = df['Positive Review'].astype('category')\n",
    "\n",
    "plt.figure(figsize=(10,8))\n",
    "sns.countplot(x='Positive Review', data=df)\n",
    "plt.title('Distribution of Positive Reviews')\n",
    "plt.xlabel('Positive Review')\n",
    "plt.ylabel('Count')\n",
    "plt.show()"
   ]
  },
  {
   "cell_type": "code",
   "execution_count": 10,
   "metadata": {},
   "outputs": [
    {
     "name": "stdout",
     "output_type": "stream",
     "text": [
      "Requirement already satisfied: nltk in /home/ubuntu/.pyenv/versions/3.9.19/lib/python3.9/site-packages (3.8.1)\n",
      "Requirement already satisfied: regex>=2021.8.3 in /home/ubuntu/.pyenv/versions/3.9.19/lib/python3.9/site-packages (from nltk) (2024.7.24)\n",
      "Requirement already satisfied: joblib in /home/ubuntu/.pyenv/versions/3.9.19/lib/python3.9/site-packages (from nltk) (1.4.0)\n",
      "Requirement already satisfied: click in /home/ubuntu/.pyenv/versions/3.9.19/lib/python3.9/site-packages (from nltk) (8.1.7)\n",
      "Requirement already satisfied: tqdm in /home/ubuntu/.pyenv/versions/3.9.19/lib/python3.9/site-packages (from nltk) (4.66.4)\n",
      "\n",
      "\u001b[1m[\u001b[0m\u001b[34;49mnotice\u001b[0m\u001b[1;39;49m]\u001b[0m\u001b[39;49m A new release of pip is available: \u001b[0m\u001b[31;49m23.0.1\u001b[0m\u001b[39;49m -> \u001b[0m\u001b[32;49m24.2\u001b[0m\n",
      "\u001b[1m[\u001b[0m\u001b[34;49mnotice\u001b[0m\u001b[1;39;49m]\u001b[0m\u001b[39;49m To update, run: \u001b[0m\u001b[32;49mpip install --upgrade pip\u001b[0m\n",
      "Note: you may need to restart the kernel to use updated packages.\n"
     ]
    }
   ],
   "source": [
    "pip install nltk"
   ]
  },
  {
   "cell_type": "markdown",
   "metadata": {},
   "source": [
    "## Part 4: Define Your Project Plan\n",
    "\n",
    "Now that you understand your data, in the markdown cell below, define your plan to implement the remaining phases of the machine learning life cycle (data preparation, modeling, evaluation) to solve your ML problem. Answer the following questions:\n",
    "\n",
    "* Do you have a new feature list? If so, what are the features that you chose to keep and remove after inspecting the data? \n",
    "* Explain different data preparation techniques that you will use to prepare your data for modeling.\n",
    "* What is your model (or models)?\n",
    "* Describe your plan to train your model, analyze its performance and then improve the model. That is, describe your model building, validation and selection plan to produce a model that generalizes well to new data. "
   ]
  },
  {
   "cell_type": "markdown",
   "metadata": {},
   "source": [
    "1. No, I do not have a new feature list. There was only one feature to begin with!\n",
    "2. Some different data preparation techniques that I will use to preapre my data for modeling is text preprocessing (tokenization, lowercasing, removing punctuation, removing stop words, and stemming). In addition, I will use the TF-IDF Vectorization technique.\n",
    "3. I will split the data into train and test sets and apply TF-IDF vecotrization to transform the data into numerical features.\n",
    "4. I will use an XGBook classifier on the training data.\n",
    "5. I will use cross-validation to evaluate the model's performance on the training data and use accuracy, precision,recall, and F1 score to assess performance. Then, I will tune hyperparameters and may use ensemble methods to improve the model."
   ]
  },
  {
   "cell_type": "markdown",
   "metadata": {},
   "source": [
    "## Part 5: Implement Your Project Plan\n",
    "\n",
    "<b>Task:</b> In the code cell below, import additional packages that you have used in this course that you will need to implement your project plan."
   ]
  },
  {
   "cell_type": "code",
   "execution_count": 28,
   "metadata": {},
   "outputs": [],
   "source": [
    "import string\n",
    "import nltk\n",
    "from nltk.corpus import stopwords\n",
    "from nltk.stem import WordNetLemmatizer\n",
    "from sklearn.model_selection import train_test_split\n",
    "from sklearn.feature_extraction.text import TfidfVectorizer\n",
    "from sklearn.metrics import accuracy_score, precision_score, recall_score, f1_score, confusion_matrix\n",
    "import seaborn as sns\n"
   ]
  },
  {
   "cell_type": "code",
   "execution_count": 29,
   "metadata": {},
   "outputs": [
    {
     "name": "stderr",
     "output_type": "stream",
     "text": [
      "[nltk_data] Downloading package stopwords to /home/ubuntu/nltk_data...\n",
      "[nltk_data]   Package stopwords is already up-to-date!\n",
      "[nltk_data] Downloading package wordnet to /home/ubuntu/nltk_data...\n",
      "[nltk_data]   Package wordnet is already up-to-date!\n"
     ]
    },
    {
     "name": "stdout",
     "output_type": "stream",
     "text": [
      "0    perhaps best johannes steinhoffs book since de...\n",
      "1    fascinating book story written form numerous l...\n",
      "2    four tale collection beautifully composed art ...\n",
      "3    book contained profanity expected read book ri...\n",
      "4    entered second time deep concern science math ...\n",
      "Name: Review, dtype: object\n"
     ]
    }
   ],
   "source": [
    "nltk.download('stopwords')\n",
    "nltk.download('wordnet')\n",
    "\n",
    "lemmatizer = WordNetLemmatizer()\n",
    "stop_words = set(stopwords.words('english'))\n",
    "\n",
    "def preprocess_text(text):\n",
    "    text = text.lower()\n",
    "    text = text.translate(str.maketrans('', '', string.punctuation))\n",
    "    tokens = text.split()\n",
    "    tokens = [lemmatizer.lemmatize(word) for word in tokens if word not in stop_words]\n",
    "    return ' '.join(tokens)\n",
    "\n",
    "df['Review'] = df['Review'].apply(preprocess_text)\n",
    "print(df['Review'].head())"
   ]
  },
  {
   "cell_type": "markdown",
   "metadata": {},
   "source": [
    "<b>Task:</b> Use the rest of this notebook to carry out your project plan. \n",
    "\n",
    "You will:\n",
    "\n",
    "1. Prepare your data for your model.\n",
    "2. Fit your model to the training data and evaluate your model.\n",
    "3. Improve your model's performance by performing model selection and/or feature selection techniques to find best model for your problem.\n",
    "\n",
    "Add code cells below and populate the notebook with commentary, code, analyses, results, and figures as you see fit. "
   ]
  },
  {
   "cell_type": "code",
   "execution_count": 30,
   "metadata": {},
   "outputs": [],
   "source": [
    "vectorizer = TfidfVectorizer(max_features = 3000)\n",
    "X = vectorizer.fit_transform(df['Review']).toarray()\n",
    "y = df['Positive Review']\n"
   ]
  },
  {
   "cell_type": "code",
   "execution_count": 32,
   "metadata": {},
   "outputs": [],
   "source": [
    "X_train, X_test, y_train, y_test = train_test_split(X, y, train_size=.75, random_state=1234)"
   ]
  },
  {
   "cell_type": "code",
   "execution_count": 33,
   "metadata": {},
   "outputs": [
    {
     "name": "stdout",
     "output_type": "stream",
     "text": [
      "False    993\n",
      "True     980\n",
      "Name: Positive Review, dtype: int64\n"
     ]
    }
   ],
   "source": [
    "print(df['Positive Review'].value_counts())"
   ]
  },
  {
   "cell_type": "code",
   "execution_count": 34,
   "metadata": {},
   "outputs": [
    {
     "name": "stdout",
     "output_type": "stream",
     "text": [
      "Requirement already satisfied: xgboost in /home/ubuntu/.pyenv/versions/3.9.19/lib/python3.9/site-packages (2.1.1)\n",
      "Requirement already satisfied: scipy in /home/ubuntu/.pyenv/versions/3.9.19/lib/python3.9/site-packages (from xgboost) (1.10.1)\n",
      "Requirement already satisfied: nvidia-nccl-cu12 in /home/ubuntu/.pyenv/versions/3.9.19/lib/python3.9/site-packages (from xgboost) (2.22.3)\n",
      "Requirement already satisfied: numpy in /home/ubuntu/.pyenv/versions/3.9.19/lib/python3.9/site-packages (from xgboost) (1.19.5)\n",
      "\n",
      "\u001b[1m[\u001b[0m\u001b[34;49mnotice\u001b[0m\u001b[1;39;49m]\u001b[0m\u001b[39;49m A new release of pip is available: \u001b[0m\u001b[31;49m23.0.1\u001b[0m\u001b[39;49m -> \u001b[0m\u001b[32;49m24.2\u001b[0m\n",
      "\u001b[1m[\u001b[0m\u001b[34;49mnotice\u001b[0m\u001b[1;39;49m]\u001b[0m\u001b[39;49m To update, run: \u001b[0m\u001b[32;49mpip install --upgrade pip\u001b[0m\n",
      "Note: you may need to restart the kernel to use updated packages.\n"
     ]
    }
   ],
   "source": [
    "pip install xgboost"
   ]
  },
  {
   "cell_type": "code",
   "execution_count": 35,
   "metadata": {},
   "outputs": [
    {
     "name": "stderr",
     "output_type": "stream",
     "text": [
      "/home/ubuntu/.pyenv/versions/3.9.19/lib/python3.9/site-packages/xgboost/core.py:158: UserWarning: [00:17:42] WARNING: /workspace/src/learner.cc:740: \n",
      "Parameters: { \"enable_cateogrical\", \"use_label_encoder\" } are not used.\n",
      "\n",
      "  warnings.warn(smsg, UserWarning)\n"
     ]
    },
    {
     "name": "stdout",
     "output_type": "stream",
     "text": [
      "Train Accuracy: 0.9939148073022313\n",
      "Train Precision: 0.9939603560070147\n",
      "Train Recall: 0.9939148073022313\n",
      "Train F1: 0.9939153137604336\n"
     ]
    }
   ],
   "source": [
    "import xgboost as xgb\n",
    "model = xgb.XGBClassifier(use_label_encoder=False, eval_metric='logloss')\n",
    "model.fit(X_train, y_train)\n",
    "\n",
    "y_train_pred = model.predict(X_train)\n",
    "\n",
    "train_accuracy = accuracy_score(y_train, y_train_pred)\n",
    "train_precision = precision_score(y_train, y_train_pred, average = 'weighted')\n",
    "train_recall = recall_score(y_train, y_train_pred, average = 'weighted')\n",
    "train_f1 = f1_score(y_train, y_train_pred, average='weighted')\n",
    "\n",
    "print(f'Train Accuracy: {train_accuracy}')\n",
    "print(f'Train Precision: {train_precision}')\n",
    "print(f'Train Recall: {train_recall}')\n",
    "print(f'Train F1: {train_f1}')"
   ]
  },
  {
   "cell_type": "code",
   "execution_count": 36,
   "metadata": {},
   "outputs": [
    {
     "name": "stdout",
     "output_type": "stream",
     "text": [
      "Test Accuracy: 0.7732793522267206\n",
      "Test Precision: 0.7733561703633892\n",
      "Test Recall: 0.7732793522267206\n",
      "Test F1: 0.7729996067577979\n"
     ]
    },
    {
     "data": {
      "image/png": "[encoded data removed]",
      "text/plain": [
       "<Figure size 640x480 with 2 Axes>"
      ]
     },
     "metadata": {},
     "output_type": "display_data"
    }
   ],
   "source": [
    "y_test_pred = model.predict(X_test)\n",
    "\n",
    "test_accuracy = accuracy_score(y_test, y_test_pred)\n",
    "test_precision = precision_score(y_test, y_test_pred, average = 'weighted')\n",
    "test_recall = recall_score(y_test, y_test_pred, average = 'weighted')\n",
    "test_f1 = f1_score(y_test, y_test_pred, average='weighted')\n",
    "\n",
    "print(f'Test Accuracy: {test_accuracy}')\n",
    "print(f'Test Precision: {test_precision}')\n",
    "print(f'Test Recall: {test_recall}')\n",
    "print(f'Test F1: {test_f1}')\n",
    "\n",
    "conf_matrix = confusion_matrix(y_test, y_test_pred)\n",
    "sns.heatmap(conf_matrix, annot=True, fmt='d', cmap='Greens')\n",
    "plt.title('Confusion Matrix')\n",
    "plt.xlabel('Predicted')\n",
    "plt.ylabel('Actual')\n",
    "plt.show()"
   ]
  },
  {
   "cell_type": "code",
   "execution_count": 38,
   "metadata": {},
   "outputs": [
    {
     "name": "stdout",
     "output_type": "stream",
     "text": [
      "Fitting 5 folds for each of 12 candidates, totalling 60 fits\n"
     ]
    },
    {
     "name": "stderr",
     "output_type": "stream",
     "text": [
      "/home/ubuntu/.pyenv/versions/3.9.19/lib/python3.9/site-packages/xgboost/core.py:158: UserWarning: [00:18:40] WARNING: /workspace/src/learner.cc:740: \n",
      "Parameters: { \"enable_cateogrical\", \"use_label_encoder\" } are not used.\n",
      "\n",
      "  warnings.warn(smsg, UserWarning)\n",
      "/home/ubuntu/.pyenv/versions/3.9.19/lib/python3.9/site-packages/xgboost/core.py:158: UserWarning: [00:18:40] WARNING: /workspace/src/learner.cc:740: \n",
      "Parameters: { \"enable_cateogrical\", \"use_label_encoder\" } are not used.\n",
      "\n",
      "  warnings.warn(smsg, UserWarning)\n",
      "/home/ubuntu/.pyenv/versions/3.9.19/lib/python3.9/site-packages/xgboost/core.py:158: UserWarning: [00:18:40] WARNING: /workspace/src/learner.cc:740: \n",
      "Parameters: { \"enable_cateogrical\", \"use_label_encoder\" } are not used.\n",
      "\n",
      "  warnings.warn(smsg, UserWarning)\n",
      "/home/ubuntu/.pyenv/versions/3.9.19/lib/python3.9/site-packages/xgboost/core.py:158: UserWarning: [00:18:40] WARNING: /workspace/src/learner.cc:740: \n",
      "Parameters: { \"enable_cateogrical\", \"use_label_encoder\" } are not used.\n",
      "\n",
      "  warnings.warn(smsg, UserWarning)\n",
      "/home/ubuntu/.pyenv/versions/3.9.19/lib/python3.9/site-packages/xgboost/core.py:158: UserWarning: [00:18:41] WARNING: /workspace/src/learner.cc:740: \n",
      "Parameters: { \"enable_cateogrical\", \"use_label_encoder\" } are not used.\n",
      "\n",
      "  warnings.warn(smsg, UserWarning)\n",
      "/home/ubuntu/.pyenv/versions/3.9.19/lib/python3.9/site-packages/xgboost/core.py:158: UserWarning: [00:18:41] WARNING: /workspace/src/learner.cc:740: \n",
      "Parameters: { \"enable_cateogrical\", \"use_label_encoder\" } are not used.\n",
      "\n",
      "  warnings.warn(smsg, UserWarning)\n",
      "/home/ubuntu/.pyenv/versions/3.9.19/lib/python3.9/site-packages/xgboost/core.py:158: UserWarning: [00:18:41] WARNING: /workspace/src/learner.cc:740: \n",
      "Parameters: { \"enable_cateogrical\", \"use_label_encoder\" } are not used.\n",
      "\n",
      "  warnings.warn(smsg, UserWarning)\n",
      "/home/ubuntu/.pyenv/versions/3.9.19/lib/python3.9/site-packages/xgboost/core.py:158: UserWarning: [00:18:42] WARNING: /workspace/src/learner.cc:740: \n",
      "Parameters: { \"enable_cateogrical\", \"use_label_encoder\" } are not used.\n",
      "\n",
      "  warnings.warn(smsg, UserWarning)\n",
      "/home/ubuntu/.pyenv/versions/3.9.19/lib/python3.9/site-packages/xgboost/core.py:158: UserWarning: [00:18:42] WARNING: /workspace/src/learner.cc:740: \n",
      "Parameters: { \"enable_cateogrical\", \"use_label_encoder\" } are not used.\n",
      "\n",
      "  warnings.warn(smsg, UserWarning)\n",
      "/home/ubuntu/.pyenv/versions/3.9.19/lib/python3.9/site-packages/xgboost/core.py:158: UserWarning: [00:18:43] WARNING: /workspace/src/learner.cc:740: \n",
      "Parameters: { \"enable_cateogrical\", \"use_label_encoder\" } are not used.\n",
      "\n",
      "  warnings.warn(smsg, UserWarning)\n",
      "/home/ubuntu/.pyenv/versions/3.9.19/lib/python3.9/site-packages/xgboost/core.py:158: UserWarning: [00:18:43] WARNING: /workspace/src/learner.cc:740: \n",
      "Parameters: { \"enable_cateogrical\", \"use_label_encoder\" } are not used.\n",
      "\n",
      "  warnings.warn(smsg, UserWarning)\n",
      "/home/ubuntu/.pyenv/versions/3.9.19/lib/python3.9/site-packages/xgboost/core.py:158: UserWarning: [00:18:43] WARNING: /workspace/src/learner.cc:740: \n",
      "Parameters: { \"enable_cateogrical\", \"use_label_encoder\" } are not used.\n",
      "\n",
      "  warnings.warn(smsg, UserWarning)\n",
      "/home/ubuntu/.pyenv/versions/3.9.19/lib/python3.9/site-packages/xgboost/core.py:158: UserWarning: [00:18:44] WARNING: /workspace/src/learner.cc:740: \n",
      "Parameters: { \"enable_cateogrical\", \"use_label_encoder\" } are not used.\n",
      "\n",
      "  warnings.warn(smsg, UserWarning)\n",
      "/home/ubuntu/.pyenv/versions/3.9.19/lib/python3.9/site-packages/xgboost/core.py:158: UserWarning: [00:18:44] WARNING: /workspace/src/learner.cc:740: \n",
      "Parameters: { \"enable_cateogrical\", \"use_label_encoder\" } are not used.\n",
      "\n",
      "  warnings.warn(smsg, UserWarning)\n",
      "/home/ubuntu/.pyenv/versions/3.9.19/lib/python3.9/site-packages/xgboost/core.py:158: UserWarning: [00:18:44] WARNING: /workspace/src/learner.cc:740: \n",
      "Parameters: { \"enable_cateogrical\", \"use_label_encoder\" } are not used.\n",
      "\n",
      "  warnings.warn(smsg, UserWarning)\n",
      "/home/ubuntu/.pyenv/versions/3.9.19/lib/python3.9/site-packages/xgboost/core.py:158: UserWarning: [00:18:45] WARNING: /workspace/src/learner.cc:740: \n",
      "Parameters: { \"enable_cateogrical\", \"use_label_encoder\" } are not used.\n",
      "\n",
      "  warnings.warn(smsg, UserWarning)\n",
      "/home/ubuntu/.pyenv/versions/3.9.19/lib/python3.9/site-packages/xgboost/core.py:158: UserWarning: [00:18:45] WARNING: /workspace/src/learner.cc:740: \n",
      "Parameters: { \"enable_cateogrical\", \"use_label_encoder\" } are not used.\n",
      "\n",
      "  warnings.warn(smsg, UserWarning)\n",
      "/home/ubuntu/.pyenv/versions/3.9.19/lib/python3.9/site-packages/xgboost/core.py:158: UserWarning: [00:18:46] WARNING: /workspace/src/learner.cc:740: \n",
      "Parameters: { \"enable_cateogrical\", \"use_label_encoder\" } are not used.\n",
      "\n",
      "  warnings.warn(smsg, UserWarning)\n",
      "/home/ubuntu/.pyenv/versions/3.9.19/lib/python3.9/site-packages/xgboost/core.py:158: UserWarning: [00:18:47] WARNING: /workspace/src/learner.cc:740: \n",
      "Parameters: { \"enable_cateogrical\", \"use_label_encoder\" } are not used.\n",
      "\n",
      "  warnings.warn(smsg, UserWarning)\n",
      "/home/ubuntu/.pyenv/versions/3.9.19/lib/python3.9/site-packages/xgboost/core.py:158: UserWarning: [00:18:47] WARNING: /workspace/src/learner.cc:740: \n",
      "Parameters: { \"enable_cateogrical\", \"use_label_encoder\" } are not used.\n",
      "\n",
      "  warnings.warn(smsg, UserWarning)\n",
      "/home/ubuntu/.pyenv/versions/3.9.19/lib/python3.9/site-packages/xgboost/core.py:158: UserWarning: [00:18:48] WARNING: /workspace/src/learner.cc:740: \n",
      "Parameters: { \"enable_cateogrical\", \"use_label_encoder\" } are not used.\n",
      "\n",
      "  warnings.warn(smsg, UserWarning)\n",
      "/home/ubuntu/.pyenv/versions/3.9.19/lib/python3.9/site-packages/xgboost/core.py:158: UserWarning: [00:18:49] WARNING: /workspace/src/learner.cc:740: \n",
      "Parameters: { \"enable_cateogrical\", \"use_label_encoder\" } are not used.\n",
      "\n",
      "  warnings.warn(smsg, UserWarning)\n",
      "/home/ubuntu/.pyenv/versions/3.9.19/lib/python3.9/site-packages/xgboost/core.py:158: UserWarning: [00:18:49] WARNING: /workspace/src/learner.cc:740: \n",
      "Parameters: { \"enable_cateogrical\", \"use_label_encoder\" } are not used.\n",
      "\n",
      "  warnings.warn(smsg, UserWarning)\n",
      "/home/ubuntu/.pyenv/versions/3.9.19/lib/python3.9/site-packages/xgboost/core.py:158: UserWarning: [00:18:50] WARNING: /workspace/src/learner.cc:740: \n",
      "Parameters: { \"enable_cateogrical\", \"use_label_encoder\" } are not used.\n",
      "\n",
      "  warnings.warn(smsg, UserWarning)\n",
      "/home/ubuntu/.pyenv/versions/3.9.19/lib/python3.9/site-packages/xgboost/core.py:158: UserWarning: [00:18:50] WARNING: /workspace/src/learner.cc:740: \n",
      "Parameters: { \"enable_cateogrical\", \"use_label_encoder\" } are not used.\n",
      "\n",
      "  warnings.warn(smsg, UserWarning)\n",
      "/home/ubuntu/.pyenv/versions/3.9.19/lib/python3.9/site-packages/xgboost/core.py:158: UserWarning: [00:18:51] WARNING: /workspace/src/learner.cc:740: \n",
      "Parameters: { \"enable_cateogrical\", \"use_label_encoder\" } are not used.\n",
      "\n",
      "  warnings.warn(smsg, UserWarning)\n",
      "/home/ubuntu/.pyenv/versions/3.9.19/lib/python3.9/site-packages/xgboost/core.py:158: UserWarning: [00:18:52] WARNING: /workspace/src/learner.cc:740: \n",
      "Parameters: { \"enable_cateogrical\", \"use_label_encoder\" } are not used.\n",
      "\n",
      "  warnings.warn(smsg, UserWarning)\n",
      "/home/ubuntu/.pyenv/versions/3.9.19/lib/python3.9/site-packages/xgboost/core.py:158: UserWarning: [00:18:53] WARNING: /workspace/src/learner.cc:740: \n",
      "Parameters: { \"enable_cateogrical\", \"use_label_encoder\" } are not used.\n",
      "\n",
      "  warnings.warn(smsg, UserWarning)\n",
      "/home/ubuntu/.pyenv/versions/3.9.19/lib/python3.9/site-packages/xgboost/core.py:158: UserWarning: [00:18:54] WARNING: /workspace/src/learner.cc:740: \n",
      "Parameters: { \"enable_cateogrical\", \"use_label_encoder\" } are not used.\n",
      "\n",
      "  warnings.warn(smsg, UserWarning)\n",
      "/home/ubuntu/.pyenv/versions/3.9.19/lib/python3.9/site-packages/xgboost/core.py:158: UserWarning: [00:18:55] WARNING: /workspace/src/learner.cc:740: \n",
      "Parameters: { \"enable_cateogrical\", \"use_label_encoder\" } are not used.\n",
      "\n",
      "  warnings.warn(smsg, UserWarning)\n",
      "/home/ubuntu/.pyenv/versions/3.9.19/lib/python3.9/site-packages/xgboost/core.py:158: UserWarning: [00:18:56] WARNING: /workspace/src/learner.cc:740: \n",
      "Parameters: { \"enable_cateogrical\", \"use_label_encoder\" } are not used.\n",
      "\n",
      "  warnings.warn(smsg, UserWarning)\n",
      "/home/ubuntu/.pyenv/versions/3.9.19/lib/python3.9/site-packages/xgboost/core.py:158: UserWarning: [00:18:56] WARNING: /workspace/src/learner.cc:740: \n",
      "Parameters: { \"enable_cateogrical\", \"use_label_encoder\" } are not used.\n",
      "\n",
      "  warnings.warn(smsg, UserWarning)\n",
      "/home/ubuntu/.pyenv/versions/3.9.19/lib/python3.9/site-packages/xgboost/core.py:158: UserWarning: [00:18:57] WARNING: /workspace/src/learner.cc:740: \n",
      "Parameters: { \"enable_cateogrical\", \"use_label_encoder\" } are not used.\n",
      "\n",
      "  warnings.warn(smsg, UserWarning)\n",
      "/home/ubuntu/.pyenv/versions/3.9.19/lib/python3.9/site-packages/xgboost/core.py:158: UserWarning: [00:18:57] WARNING: /workspace/src/learner.cc:740: \n",
      "Parameters: { \"enable_cateogrical\", \"use_label_encoder\" } are not used.\n",
      "\n",
      "  warnings.warn(smsg, UserWarning)\n",
      "/home/ubuntu/.pyenv/versions/3.9.19/lib/python3.9/site-packages/xgboost/core.py:158: UserWarning: [00:18:57] WARNING: /workspace/src/learner.cc:740: \n",
      "Parameters: { \"enable_cateogrical\", \"use_label_encoder\" } are not used.\n",
      "\n",
      "  warnings.warn(smsg, UserWarning)\n",
      "/home/ubuntu/.pyenv/versions/3.9.19/lib/python3.9/site-packages/xgboost/core.py:158: UserWarning: [00:18:57] WARNING: /workspace/src/learner.cc:740: \n",
      "Parameters: { \"enable_cateogrical\", \"use_label_encoder\" } are not used.\n",
      "\n",
      "  warnings.warn(smsg, UserWarning)\n",
      "/home/ubuntu/.pyenv/versions/3.9.19/lib/python3.9/site-packages/xgboost/core.py:158: UserWarning: [00:18:58] WARNING: /workspace/src/learner.cc:740: \n",
      "Parameters: { \"enable_cateogrical\", \"use_label_encoder\" } are not used.\n",
      "\n",
      "  warnings.warn(smsg, UserWarning)\n",
      "/home/ubuntu/.pyenv/versions/3.9.19/lib/python3.9/site-packages/xgboost/core.py:158: UserWarning: [00:18:58] WARNING: /workspace/src/learner.cc:740: \n",
      "Parameters: { \"enable_cateogrical\", \"use_label_encoder\" } are not used.\n",
      "\n",
      "  warnings.warn(smsg, UserWarning)\n",
      "/home/ubuntu/.pyenv/versions/3.9.19/lib/python3.9/site-packages/xgboost/core.py:158: UserWarning: [00:18:59] WARNING: /workspace/src/learner.cc:740: \n",
      "Parameters: { \"enable_cateogrical\", \"use_label_encoder\" } are not used.\n",
      "\n",
      "  warnings.warn(smsg, UserWarning)\n",
      "/home/ubuntu/.pyenv/versions/3.9.19/lib/python3.9/site-packages/xgboost/core.py:158: UserWarning: [00:18:59] WARNING: /workspace/src/learner.cc:740: \n",
      "Parameters: { \"enable_cateogrical\", \"use_label_encoder\" } are not used.\n",
      "\n",
      "  warnings.warn(smsg, UserWarning)\n",
      "/home/ubuntu/.pyenv/versions/3.9.19/lib/python3.9/site-packages/xgboost/core.py:158: UserWarning: [00:18:59] WARNING: /workspace/src/learner.cc:740: \n",
      "Parameters: { \"enable_cateogrical\", \"use_label_encoder\" } are not used.\n",
      "\n",
      "  warnings.warn(smsg, UserWarning)\n",
      "/home/ubuntu/.pyenv/versions/3.9.19/lib/python3.9/site-packages/xgboost/core.py:158: UserWarning: [00:19:00] WARNING: /workspace/src/learner.cc:740: \n",
      "Parameters: { \"enable_cateogrical\", \"use_label_encoder\" } are not used.\n",
      "\n",
      "  warnings.warn(smsg, UserWarning)\n",
      "/home/ubuntu/.pyenv/versions/3.9.19/lib/python3.9/site-packages/xgboost/core.py:158: UserWarning: [00:19:00] WARNING: /workspace/src/learner.cc:740: \n",
      "Parameters: { \"enable_cateogrical\", \"use_label_encoder\" } are not used.\n",
      "\n",
      "  warnings.warn(smsg, UserWarning)\n",
      "/home/ubuntu/.pyenv/versions/3.9.19/lib/python3.9/site-packages/xgboost/core.py:158: UserWarning: [00:19:00] WARNING: /workspace/src/learner.cc:740: \n",
      "Parameters: { \"enable_cateogrical\", \"use_label_encoder\" } are not used.\n",
      "\n",
      "  warnings.warn(smsg, UserWarning)\n",
      "/home/ubuntu/.pyenv/versions/3.9.19/lib/python3.9/site-packages/xgboost/core.py:158: UserWarning: [00:19:01] WARNING: /workspace/src/learner.cc:740: \n",
      "Parameters: { \"enable_cateogrical\", \"use_label_encoder\" } are not used.\n",
      "\n",
      "  warnings.warn(smsg, UserWarning)\n",
      "/home/ubuntu/.pyenv/versions/3.9.19/lib/python3.9/site-packages/xgboost/core.py:158: UserWarning: [00:19:01] WARNING: /workspace/src/learner.cc:740: \n",
      "Parameters: { \"enable_cateogrical\", \"use_label_encoder\" } are not used.\n",
      "\n",
      "  warnings.warn(smsg, UserWarning)\n",
      "/home/ubuntu/.pyenv/versions/3.9.19/lib/python3.9/site-packages/xgboost/core.py:158: UserWarning: [00:19:02] WARNING: /workspace/src/learner.cc:740: \n",
      "Parameters: { \"enable_cateogrical\", \"use_label_encoder\" } are not used.\n",
      "\n",
      "  warnings.warn(smsg, UserWarning)\n",
      "/home/ubuntu/.pyenv/versions/3.9.19/lib/python3.9/site-packages/xgboost/core.py:158: UserWarning: [00:19:02] WARNING: /workspace/src/learner.cc:740: \n",
      "Parameters: { \"enable_cateogrical\", \"use_label_encoder\" } are not used.\n",
      "\n",
      "  warnings.warn(smsg, UserWarning)\n",
      "/home/ubuntu/.pyenv/versions/3.9.19/lib/python3.9/site-packages/xgboost/core.py:158: UserWarning: [00:19:03] WARNING: /workspace/src/learner.cc:740: \n",
      "Parameters: { \"enable_cateogrical\", \"use_label_encoder\" } are not used.\n",
      "\n",
      "  warnings.warn(smsg, UserWarning)\n",
      "/home/ubuntu/.pyenv/versions/3.9.19/lib/python3.9/site-packages/xgboost/core.py:158: UserWarning: [00:19:04] WARNING: /workspace/src/learner.cc:740: \n",
      "Parameters: { \"enable_cateogrical\", \"use_label_encoder\" } are not used.\n",
      "\n",
      "  warnings.warn(smsg, UserWarning)\n",
      "/home/ubuntu/.pyenv/versions/3.9.19/lib/python3.9/site-packages/xgboost/core.py:158: UserWarning: [00:19:04] WARNING: /workspace/src/learner.cc:740: \n",
      "Parameters: { \"enable_cateogrical\", \"use_label_encoder\" } are not used.\n",
      "\n",
      "  warnings.warn(smsg, UserWarning)\n",
      "/home/ubuntu/.pyenv/versions/3.9.19/lib/python3.9/site-packages/xgboost/core.py:158: UserWarning: [00:19:05] WARNING: /workspace/src/learner.cc:740: \n",
      "Parameters: { \"enable_cateogrical\", \"use_label_encoder\" } are not used.\n",
      "\n",
      "  warnings.warn(smsg, UserWarning)\n",
      "/home/ubuntu/.pyenv/versions/3.9.19/lib/python3.9/site-packages/xgboost/core.py:158: UserWarning: [00:19:05] WARNING: /workspace/src/learner.cc:740: \n",
      "Parameters: { \"enable_cateogrical\", \"use_label_encoder\" } are not used.\n",
      "\n",
      "  warnings.warn(smsg, UserWarning)\n",
      "/home/ubuntu/.pyenv/versions/3.9.19/lib/python3.9/site-packages/xgboost/core.py:158: UserWarning: [00:19:06] WARNING: /workspace/src/learner.cc:740: \n",
      "Parameters: { \"enable_cateogrical\", \"use_label_encoder\" } are not used.\n",
      "\n",
      "  warnings.warn(smsg, UserWarning)\n",
      "/home/ubuntu/.pyenv/versions/3.9.19/lib/python3.9/site-packages/xgboost/core.py:158: UserWarning: [00:19:06] WARNING: /workspace/src/learner.cc:740: \n",
      "Parameters: { \"enable_cateogrical\", \"use_label_encoder\" } are not used.\n",
      "\n",
      "  warnings.warn(smsg, UserWarning)\n",
      "/home/ubuntu/.pyenv/versions/3.9.19/lib/python3.9/site-packages/xgboost/core.py:158: UserWarning: [00:19:07] WARNING: /workspace/src/learner.cc:740: \n",
      "Parameters: { \"enable_cateogrical\", \"use_label_encoder\" } are not used.\n",
      "\n",
      "  warnings.warn(smsg, UserWarning)\n",
      "/home/ubuntu/.pyenv/versions/3.9.19/lib/python3.9/site-packages/xgboost/core.py:158: UserWarning: [00:19:07] WARNING: /workspace/src/learner.cc:740: \n",
      "Parameters: { \"enable_cateogrical\", \"use_label_encoder\" } are not used.\n",
      "\n",
      "  warnings.warn(smsg, UserWarning)\n",
      "/home/ubuntu/.pyenv/versions/3.9.19/lib/python3.9/site-packages/xgboost/core.py:158: UserWarning: [00:19:08] WARNING: /workspace/src/learner.cc:740: \n",
      "Parameters: { \"enable_cateogrical\", \"use_label_encoder\" } are not used.\n",
      "\n",
      "  warnings.warn(smsg, UserWarning)\n",
      "/home/ubuntu/.pyenv/versions/3.9.19/lib/python3.9/site-packages/xgboost/core.py:158: UserWarning: [00:19:09] WARNING: /workspace/src/learner.cc:740: \n",
      "Parameters: { \"enable_cateogrical\", \"use_label_encoder\" } are not used.\n",
      "\n",
      "  warnings.warn(smsg, UserWarning)\n",
      "/home/ubuntu/.pyenv/versions/3.9.19/lib/python3.9/site-packages/xgboost/core.py:158: UserWarning: [00:19:10] WARNING: /workspace/src/learner.cc:740: \n",
      "Parameters: { \"enable_cateogrical\", \"use_label_encoder\" } are not used.\n",
      "\n",
      "  warnings.warn(smsg, UserWarning)\n",
      "/home/ubuntu/.pyenv/versions/3.9.19/lib/python3.9/site-packages/xgboost/core.py:158: UserWarning: [00:19:11] WARNING: /workspace/src/learner.cc:740: \n",
      "Parameters: { \"enable_cateogrical\", \"use_label_encoder\" } are not used.\n",
      "\n",
      "  warnings.warn(smsg, UserWarning)\n"
     ]
    },
    {
     "name": "stdout",
     "output_type": "stream",
     "text": [
      "{'learning_rate': 0.1, 'max_depth': 5, 'n_estimators': 100}\n"
     ]
    }
   ],
   "source": [
    "from sklearn.model_selection import GridSearchCV\n",
    "\n",
    "param_grid = {\n",
    "    'n_estimators' : [50, 100],\n",
    "    'learning_rate' : [0.01, 0.1],\n",
    "    'max_depth': [3, 5, 7]\n",
    "}\n",
    "\n",
    "grid_search = GridSearchCV(estimator=model, param_grid=param_grid, cv=5, scoring='accuracy', verbose=1)\n",
    "grid_search.fit(X_train, y_train)\n",
    "\n",
    "best_params = grid_search.best_params_\n",
    "best_model = grid_search.best_estimator_\n",
    "\n",
    "print(best_params)"
   ]
  },
  {
   "cell_type": "code",
   "execution_count": 39,
   "metadata": {},
   "outputs": [
    {
     "name": "stdout",
     "output_type": "stream",
     "text": [
      "Best Test Accuracy: 0.742914979757085\n",
      "Best Test Precision: 0.7431814926977467\n",
      "Best Test Recall: 0.742914979757085\n",
      "Best Test F1: 0.7423591168199548\n"
     ]
    },
    {
     "data": {
      "image/png": "[encoded data removed]",
      "text/plain": [
       "<Figure size 640x480 with 2 Axes>"
      ]
     },
     "metadata": {},
     "output_type": "display_data"
    }
   ],
   "source": [
    "y_test_pred_best = best_model.predict(X_test)\n",
    "\n",
    "best_test_accuracy = accuracy_score(y_test, y_test_pred_best)\n",
    "best_test_precision = precision_score(y_test, y_test_pred_best, average = 'weighted')\n",
    "best_test_recall = recall_score(y_test, y_test_pred_best, average = 'weighted')\n",
    "best_test_f1 = f1_score(y_test, y_test_pred_best, average='weighted')\n",
    "\n",
    "print(f'Best Test Accuracy: {best_test_accuracy}')\n",
    "print(f'Best Test Precision: {best_test_precision}')\n",
    "print(f'Best Test Recall: {best_test_recall}')\n",
    "print(f'Best Test F1: {best_test_f1}')\n",
    "\n",
    "conf_matrix = confusion_matrix(y_test, y_test_pred_best)\n",
    "sns.heatmap(conf_matrix, annot=True, fmt='d', cmap='Blues')\n",
    "plt.title('Confusion Matrix of Best Model')\n",
    "plt.xlabel('Predicted')\n",
    "plt.ylabel('Actual')\n",
    "plt.show()"
   ]
  },
  {
   "cell_type": "code",
   "execution_count": null,
   "metadata": {},
   "outputs": [],
   "source": []
  }
 ],
 "metadata": {
  "kernelspec": {
   "display_name": "Python 3 (ipykernel)",
   "language": "python",
   "name": "python3"
  },
  "language_info": {
   "codemirror_mode": {
    "name": "ipython",
    "version": 3
   },
   "file_extension": ".py",
   "mimetype": "text/x-python",
   "name": "python",
   "nbconvert_exporter": "python",
   "pygments_lexer": "ipython3",
   "version": "3.9.19"
  },
  "toc": {
   "base_numbering": 1,
   "nav_menu": {},
   "number_sections": false,
   "sideBar": true,
   "skip_h1_title": false,
   "title_cell": "Table of Contents",
   "title_sidebar": "Contents",
   "toc_cell": false,
   "toc_position": {},
   "toc_section_display": true,
   "toc_window_display": false
  },
  "varInspector": {
   "cols": {
    "lenName": 16,
    "lenType": 16,
    "lenVar": 40
   },
   "kernels_config": {
    "python": {
     "delete_cmd_postfix": "",
     "delete_cmd_prefix": "del ",
     "library": "var_list.py",
     "varRefreshCmd": "print(var_dic_list())"
    },
    "r": {
     "delete_cmd_postfix": ") ",
     "delete_cmd_prefix": "rm(",
     "library": "var_list.r",
     "varRefreshCmd": "cat(var_dic_list()) "
    }
   },
   "types_to_exclude": [
    "module",
    "function",
    "builtin_function_or_method",
    "instance",
    "_Feature"
   ],
   "window_display": false
  }
 },
 "nbformat": 4,
 "nbformat_minor": 4
}
